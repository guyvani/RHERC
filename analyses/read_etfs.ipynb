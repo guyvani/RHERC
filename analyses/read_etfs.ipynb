{
  "nbformat": 4,
  "nbformat_minor": 0,
  "metadata": {
    "colab": {
      "name": "read_etfs.ipynb",
      "provenance": [],
      "collapsed_sections": [],
      "toc_visible": true,
      "authorship_tag": "ABX9TyPQFxK+ycZvBWduTwcIeT/w",
      "include_colab_link": true
    },
    "kernelspec": {
      "name": "python3",
      "display_name": "Python 3"
    }
  },
  "cells": [
    {
      "cell_type": "markdown",
      "metadata": {
        "id": "view-in-github",
        "colab_type": "text"
      },
      "source": [
        "<a href=\"https://colab.research.google.com/github/guyvani/RHERC/blob/main/analyses/read_etfs.ipynb\" target=\"_parent\"><img src=\"https://colab.research.google.com/assets/colab-badge.svg\" alt=\"Open In Colab\"/></a>"
      ]
    },
    {
      "cell_type": "code",
      "metadata": {
        "id": "EMPUUU0prDHl"
      },
      "source": [
        "import numpy as np\n",
        "import pandas as pd\n",
        "import fix_yahoo_finance as yf\n",
        "import matplotlib.pyplot as plt\n",
        "import seaborn as sns\n",
        "%matplotlib inline"
      ],
      "execution_count": 3,
      "outputs": []
    },
    {
      "cell_type": "code",
      "metadata": {
        "id": "pRRBYXJhrJAi"
      },
      "source": [
        "from datetime import date,datetime\n",
        "from dateutil.relativedelta import relativedelta\n",
        "ticks = [\"SPY\", \"XLF\", \"XLE\", \"XLU\", \"XLK\", \"XLB\", \"XLP\", \"XLY\", \"XLI\", \"XLV\"]\n",
        "end = date.today()\n",
        "beg = end - relativedelta(years = 10)"
      ],
      "execution_count": 7,
      "outputs": []
    },
    {
      "cell_type": "code",
      "metadata": {
        "colab": {
          "base_uri": "https://localhost:8080/"
        },
        "id": "7cSBmeHNrc76",
        "outputId": "7a3c86a8-5dc3-408d-d5ad-50e7c9309684"
      },
      "source": [
        "data = pd.DataFrame(yf.download(ticks, start=beg, end=end)['Adj Close'])"
      ],
      "execution_count": 8,
      "outputs": [
        {
          "output_type": "stream",
          "text": [
            "[*********************100%***********************]  10 of 10 downloaded\n"
          ],
          "name": "stdout"
        }
      ]
    },
    {
      "cell_type": "code",
      "metadata": {
        "colab": {
          "base_uri": "https://localhost:8080/",
          "height": 235
        },
        "id": "LNnkdniUrk_u",
        "outputId": "4ce5b447-1db5-4318-836b-ac6338e403ab"
      },
      "source": [
        "data.tail()"
      ],
      "execution_count": 9,
      "outputs": [
        {
          "output_type": "execute_result",
          "data": {
            "text/html": [
              "<div>\n",
              "<style scoped>\n",
              "    .dataframe tbody tr th:only-of-type {\n",
              "        vertical-align: middle;\n",
              "    }\n",
              "\n",
              "    .dataframe tbody tr th {\n",
              "        vertical-align: top;\n",
              "    }\n",
              "\n",
              "    .dataframe thead th {\n",
              "        text-align: right;\n",
              "    }\n",
              "</style>\n",
              "<table border=\"1\" class=\"dataframe\">\n",
              "  <thead>\n",
              "    <tr style=\"text-align: right;\">\n",
              "      <th></th>\n",
              "      <th>SPY</th>\n",
              "      <th>XLB</th>\n",
              "      <th>XLE</th>\n",
              "      <th>XLF</th>\n",
              "      <th>XLI</th>\n",
              "      <th>XLK</th>\n",
              "      <th>XLP</th>\n",
              "      <th>XLU</th>\n",
              "      <th>XLV</th>\n",
              "      <th>XLY</th>\n",
              "    </tr>\n",
              "    <tr>\n",
              "      <th>Date</th>\n",
              "      <th></th>\n",
              "      <th></th>\n",
              "      <th></th>\n",
              "      <th></th>\n",
              "      <th></th>\n",
              "      <th></th>\n",
              "      <th></th>\n",
              "      <th></th>\n",
              "      <th></th>\n",
              "      <th></th>\n",
              "    </tr>\n",
              "  </thead>\n",
              "  <tbody>\n",
              "    <tr>\n",
              "      <th>2020-11-16</th>\n",
              "      <td>362.570007</td>\n",
              "      <td>70.370003</td>\n",
              "      <td>36.110001</td>\n",
              "      <td>27.629999</td>\n",
              "      <td>87.849998</td>\n",
              "      <td>122.370003</td>\n",
              "      <td>68.150002</td>\n",
              "      <td>66.760002</td>\n",
              "      <td>111.930000</td>\n",
              "      <td>155.460007</td>\n",
              "    </tr>\n",
              "    <tr>\n",
              "      <th>2020-11-17</th>\n",
              "      <td>360.619995</td>\n",
              "      <td>70.110001</td>\n",
              "      <td>36.480000</td>\n",
              "      <td>27.590000</td>\n",
              "      <td>87.620003</td>\n",
              "      <td>121.690002</td>\n",
              "      <td>67.669998</td>\n",
              "      <td>65.449997</td>\n",
              "      <td>111.199997</td>\n",
              "      <td>154.800003</td>\n",
              "    </tr>\n",
              "    <tr>\n",
              "      <th>2020-11-18</th>\n",
              "      <td>356.279999</td>\n",
              "      <td>69.529999</td>\n",
              "      <td>35.419998</td>\n",
              "      <td>27.330000</td>\n",
              "      <td>87.230003</td>\n",
              "      <td>120.389999</td>\n",
              "      <td>66.739998</td>\n",
              "      <td>64.169998</td>\n",
              "      <td>109.129997</td>\n",
              "      <td>153.740005</td>\n",
              "    </tr>\n",
              "    <tr>\n",
              "      <th>2020-11-19</th>\n",
              "      <td>357.779999</td>\n",
              "      <td>69.820000</td>\n",
              "      <td>36.000000</td>\n",
              "      <td>27.420000</td>\n",
              "      <td>87.449997</td>\n",
              "      <td>121.360001</td>\n",
              "      <td>66.919998</td>\n",
              "      <td>63.529999</td>\n",
              "      <td>109.050003</td>\n",
              "      <td>154.500000</td>\n",
              "    </tr>\n",
              "    <tr>\n",
              "      <th>2020-11-20</th>\n",
              "      <td>355.329987</td>\n",
              "      <td>69.760002</td>\n",
              "      <td>35.810001</td>\n",
              "      <td>27.180000</td>\n",
              "      <td>86.660004</td>\n",
              "      <td>120.110001</td>\n",
              "      <td>66.500000</td>\n",
              "      <td>63.540001</td>\n",
              "      <td>108.800003</td>\n",
              "      <td>153.690002</td>\n",
              "    </tr>\n",
              "  </tbody>\n",
              "</table>\n",
              "</div>"
            ],
            "text/plain": [
              "                   SPY        XLB        XLE  ...        XLU         XLV         XLY\n",
              "Date                                          ...                                   \n",
              "2020-11-16  362.570007  70.370003  36.110001  ...  66.760002  111.930000  155.460007\n",
              "2020-11-17  360.619995  70.110001  36.480000  ...  65.449997  111.199997  154.800003\n",
              "2020-11-18  356.279999  69.529999  35.419998  ...  64.169998  109.129997  153.740005\n",
              "2020-11-19  357.779999  69.820000  36.000000  ...  63.529999  109.050003  154.500000\n",
              "2020-11-20  355.329987  69.760002  35.810001  ...  63.540001  108.800003  153.690002\n",
              "\n",
              "[5 rows x 10 columns]"
            ]
          },
          "metadata": {
            "tags": []
          },
          "execution_count": 9
        }
      ]
    }
  ]
}